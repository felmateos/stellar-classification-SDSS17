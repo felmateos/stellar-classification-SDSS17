{
 "cells": [
  {
   "cell_type": "markdown",
   "metadata": {},
   "source": [
    "# Arvore de decisão"
   ]
  },
  {
   "cell_type": "markdown",
   "metadata": {},
   "source": [
    "## Importações"
   ]
  },
  {
   "cell_type": "code",
   "execution_count": 8,
   "metadata": {},
   "outputs": [],
   "source": [
    "import pandas as pd\n",
    "import numpy as np\n",
    "from sklearn.pipeline import Pipeline\n",
    "from sklearn.tree import DecisionTreeClassifier\n",
    "from sklearn.model_selection import KFold, train_test_split\n",
    "from scipy.stats import randint\n",
    "\n",
    "import model_pipeline\n",
    "\n",
    "seed = 777\n",
    "rng = np.random.default_rng(seed)\n",
    "\n",
    "def rng_int():\n",
    "    return rng.integers(1, 10000)"
   ]
  },
  {
   "cell_type": "code",
   "execution_count": 3,
   "metadata": {},
   "outputs": [],
   "source": [
    "df = pd.read_csv('../data/preprocessed/_90_drp_outl.csv', index_col='obj_ID')\n",
    "\n",
    "X = df[['alpha', 'delta', 'u', 'g', 'r', 'i', 'z', 'redshift']]\n",
    "y = df['class']"
   ]
  },
  {
   "cell_type": "code",
   "execution_count": 4,
   "metadata": {},
   "outputs": [
    {
     "name": "stdout",
     "output_type": "stream",
     "text": [
      "Melhores parâmetros: {'classifier__criterion': 'gini', 'classifier__max_depth': 50, 'classifier__max_features': 'log2', 'classifier__min_impurity_decrease': 0.0, 'classifier__min_samples_leaf': 12, 'classifier__min_samples_split': 8, 'classifier__splitter': 'best'}\n",
      "Melhor acurácia: 0.9703312505821575\n"
     ]
    }
   ],
   "source": [
    "X_train, X_test, y_train, y_test = train_test_split(X, y, train_size=.8, stratify=y, random_state=rng_int())\n",
    "\n",
    "kfold = KFold(n_splits=5, shuffle=True, random_state=rng_int())\n",
    "\n",
    "pipeline = Pipeline([\n",
    "    ('classifier', DecisionTreeClassifier()) # Classificador\n",
    "])\n",
    "\n",
    "# Definir a distribuição de parâmetros para random search\n",
    "param_dist = {\n",
    "    'classifier__criterion': ['gini', 'entropy'],\n",
    "    'classifier__max_depth': [None, 10, 20, 30, 40, 50],\n",
    "    'classifier__min_samples_leaf': randint(1, 20),\n",
    "    'classifier__min_samples_split': randint(2, 20),\n",
    "    'classifier__max_features': ['sqrt', 'log2'],\n",
    "    'classifier__splitter': ['best', 'random'],\n",
    "    'classifier__min_impurity_decrease': [0.0, 0.1, 0.2, 0.3, 0.4, 0.5]\n",
    "}\n",
    "\n",
    "best_model, best_params, best_score = model_pipeline.get_best_params(pipeline, param_dist, kfold, X_train, y_train)\n",
    "\n",
    "print(\"Melhores parâmetros:\", best_params)\n",
    "print(\"Melhor acurácia:\", best_score)"
   ]
  },
  {
   "cell_type": "code",
   "execution_count": 13,
   "metadata": {},
   "outputs": [],
   "source": [
    "model_pipeline.dump_model(best_model, 'dump/decision_tree', X_test, y_test)"
   ]
  },
  {
   "cell_type": "code",
   "execution_count": 6,
   "metadata": {},
   "outputs": [
    {
     "name": "stderr",
     "output_type": "stream",
     "text": [
      "WNDPROC return value cannot be converted to LRESULT\n"
     ]
    },
    {
     "ename": "TypeError",
     "evalue": "WPARAM is simple, so must be an int object (got NoneType)",
     "output_type": "error",
     "traceback": [
      "\u001b[1;31m---------------------------------------------------------------------------\u001b[0m",
      "\u001b[1;31mTypeError\u001b[0m                                 Traceback (most recent call last)",
      "\u001b[1;31mTypeError\u001b[0m: WPARAM is simple, so must be an int object (got NoneType)"
     ]
    }
   ],
   "source": [
    "from win10toast import ToastNotifier\n",
    "\n",
    "def notificar(titulo, mensagem):\n",
    "    toaster = ToastNotifier()\n",
    "    toaster.show_toast(titulo, mensagem, duration=10)\n",
    "\n",
    "notificar(\"Tarefa Concluída\", \"Seu código terminou de rodar!\")"
   ]
  },
  {
   "cell_type": "code",
   "execution_count": 7,
   "metadata": {},
   "outputs": [
    {
     "data": {
      "image/png": "[encoded data removed]",
      "text/plain": [
       "<Figure size 800x600 with 2 Axes>"
      ]
     },
     "metadata": {},
     "output_type": "display_data"
    }
   ],
   "source": [
    "\n",
    "from sklearn.metrics import confusion_matrix\n",
    "import matplotlib.pyplot as plt\n",
    "import seaborn as sns\n",
    "\n",
    "best_model.fit(X_train, y_train)\n",
    "\n",
    "y_pred = best_model.predict(X_test)\n",
    "\n",
    "cm = confusion_matrix(y_test, y_pred)\n",
    "cm_percent = cm.astype('float') / cm.sum(axis=1)[:, np.newaxis] * 100\n",
    "\n",
    "plt.figure(figsize=(8, 6))\n",
    "sns.heatmap(cm_percent, annot=True, fmt='.1f', cmap='summer')\n",
    "plt.xlabel('Predicted')\n",
    "plt.ylabel('True')\n",
    "plt.title('Confusion Matrix Heatmap')\n",
    "plt.show()"
   ]
  }
 ],
 "metadata": {
  "kernelspec": {
   "display_name": "Python 3",
   "language": "python",
   "name": "python3"
  },
  "language_info": {
   "codemirror_mode": {
    "name": "ipython",
    "version": 3
   },
   "file_extension": ".py",
   "mimetype": "text/x-python",
   "name": "python",
   "nbconvert_exporter": "python",
   "pygments_lexer": "ipython3",
   "version": "3.12.3"
  }
 },
 "nbformat": 4,
 "nbformat_minor": 2
}
