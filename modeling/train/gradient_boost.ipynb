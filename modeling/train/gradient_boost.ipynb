{
 "cells": [
  {
   "cell_type": "markdown",
   "metadata": {},
   "source": [
    "# Gradient Boost"
   ]
  },
  {
   "cell_type": "markdown",
   "metadata": {},
   "source": [
    "## Importações"
   ]
  },
  {
   "cell_type": "code",
   "execution_count": 7,
   "metadata": {},
   "outputs": [],
   "source": [
    "import pandas as pd\n",
    "import numpy as np\n",
    "from sklearn.pipeline import Pipeline\n",
    "from sklearn.ensemble import GradientBoostingClassifier\n",
    "from sklearn.model_selection import KFold, train_test_split\n",
    "from scipy.stats import randint\n",
    "\n",
    "import model_pipeline\n",
    "\n",
    "seed = 777\n",
    "rng = np.random.default_rng(seed)\n",
    "\n",
    "def rng_int():\n",
    "    return rng.integers(1, 10000)"
   ]
  },
  {
   "cell_type": "markdown",
   "metadata": {},
   "source": [
    "## Preparação e separação do conjunto de dados"
   ]
  },
  {
   "cell_type": "code",
   "execution_count": null,
   "metadata": {},
   "outputs": [],
   "source": [
    "df = pd.read_csv('../../data/preprocessed/_90_drp_outl.csv', index_col='obj_ID')\n",
    "\n",
    "X = df[['alpha', 'delta', 'u', 'g', 'r', 'i', 'z', 'redshift']]\n",
    "y = df['class']\n",
    "\n",
    "X_train, _, y_train, _ = train_test_split(X, y, train_size=.8, stratify=y, random_state=rng_int())"
   ]
  },
  {
   "cell_type": "markdown",
   "metadata": {},
   "source": [
    "## Configurando pipeline"
   ]
  },
  {
   "cell_type": "code",
   "execution_count": 3,
   "metadata": {},
   "outputs": [
    {
     "name": "stdout",
     "output_type": "stream",
     "text": [
      "Melhores parâmetros: {'classifier__learning_rate': 0.05, 'classifier__max_depth': 6, 'classifier__max_features': 'log2', 'classifier__min_samples_leaf': 50, 'classifier__min_samples_split': 20, 'classifier__n_estimators': 296, 'classifier__subsample': 1.0}\n",
      "Melhor acurácia: 0.9775743718214311\n"
     ]
    }
   ],
   "source": [
    "kfold = KFold(n_splits=5, shuffle=True, random_state=rng_int())\n",
    "\n",
    "pipeline = Pipeline([\n",
    "    ('classifier', GradientBoostingClassifier()) # Classificador\n",
    "])\n",
    "\n",
    "# Definir a distribuição de parâmetros para random search\n",
    "param_dist = {\n",
    "    'classifier__n_estimators': randint(50, 400),\n",
    "    'classifier__learning_rate': [0.01, 0.05, 0.1, 0.2, 0.5],\n",
    "    'classifier__max_depth': [3, 4, 5, 6],\n",
    "    'classifier__subsample': [0.8, 0.9, 1.0],\n",
    "    'classifier__max_features': ['sqrt', 'log2'],\n",
    "    'classifier__min_samples_split': [10, 20, 50, 100],\n",
    "    'classifier__min_samples_leaf': [5, 10, 20, 50], \n",
    "}\n",
    "\n",
    "best_model, best_params, best_score = model_pipeline.get_best_params(pipeline, param_dist, kfold, X_train, y_train)\n",
    "\n",
    "print(\"Melhores parâmetros:\", best_params)\n",
    "print(\"Melhor acurácia:\", best_score)"
   ]
  },
  {
   "cell_type": "markdown",
   "metadata": {},
   "source": [
    "## Armazenando melhor modelo"
   ]
  },
  {
   "cell_type": "code",
   "execution_count": null,
   "metadata": {},
   "outputs": [],
   "source": [
    "model_pipeline.dump_model(best_model, '../dump/gradient_boost', best_score)"
   ]
  }
 ],
 "metadata": {
  "kernelspec": {
   "display_name": "Python 3",
   "language": "python",
   "name": "python3"
  },
  "language_info": {
   "codemirror_mode": {
    "name": "ipython",
    "version": 3
   },
   "file_extension": ".py",
   "mimetype": "text/x-python",
   "name": "python",
   "nbconvert_exporter": "python",
   "pygments_lexer": "ipython3",
   "version": "3.12.3"
  }
 },
 "nbformat": 4,
 "nbformat_minor": 2
}
