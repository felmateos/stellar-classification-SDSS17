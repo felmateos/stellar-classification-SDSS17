{
 "cells": [
  {
   "cell_type": "markdown",
   "metadata": {},
   "source": [
    "# Árvore de decisão"
   ]
  },
  {
   "cell_type": "markdown",
   "metadata": {},
   "source": [
    "## Importações"
   ]
  },
  {
   "cell_type": "code",
   "execution_count": 2,
   "metadata": {},
   "outputs": [],
   "source": [
    "import pandas as pd\n",
    "import numpy as np\n",
    "from sklearn.pipeline import Pipeline\n",
    "from sklearn.tree import DecisionTreeClassifier\n",
    "from sklearn.model_selection import KFold, train_test_split\n",
    "from scipy.stats import randint\n",
    "\n",
    "import model_pipeline\n",
    "\n",
    "seed = 777\n",
    "rng = np.random.default_rng(seed)\n",
    "\n",
    "def rng_int():\n",
    "    return rng.integers(1, 10000)"
   ]
  },
  {
   "cell_type": "markdown",
   "metadata": {},
   "source": [
    "## Preparação e separação do conjunto de dados"
   ]
  },
  {
   "cell_type": "code",
   "execution_count": 3,
   "metadata": {},
   "outputs": [],
   "source": [
    "df = pd.read_csv('../../data/preprocessed/_90_drp_outl.csv', index_col='obj_ID')\n",
    "\n",
    "X = df[['alpha', 'delta', 'u', 'g', 'r', 'i', 'z', 'redshift']]\n",
    "y = df['class']\n",
    "\n",
    "X_train, _, y_train, _ = train_test_split(X, y, train_size=.8, stratify=y, random_state=rng_int())"
   ]
  },
  {
   "cell_type": "markdown",
   "metadata": {},
   "source": [
    "## Configurando pipeline"
   ]
  },
  {
   "cell_type": "code",
   "execution_count": 4,
   "metadata": {},
   "outputs": [
    {
     "name": "stdout",
     "output_type": "stream",
     "text": [
      "Melhores parâmetros: {'classifier__criterion': 'gini', 'classifier__max_depth': 50, 'classifier__max_features': 'log2', 'classifier__min_impurity_decrease': 0.0, 'classifier__min_samples_leaf': 12, 'classifier__min_samples_split': 8, 'classifier__splitter': 'best'}\n",
      "Melhor acurácia: 0.970805161189513\n"
     ]
    }
   ],
   "source": [
    "kfold = KFold(n_splits=5, shuffle=True, random_state=rng_int())\n",
    "\n",
    "pipeline = Pipeline([\n",
    "    ('classifier', DecisionTreeClassifier()) # Classificador\n",
    "])\n",
    "\n",
    "param_dist = {\n",
    "    'classifier__criterion': ['gini', 'entropy'],\n",
    "    'classifier__max_depth': [None, 10, 20, 30, 40, 50],\n",
    "    'classifier__min_samples_leaf': randint(1, 20),\n",
    "    'classifier__min_samples_split': randint(2, 20),\n",
    "    'classifier__max_features': ['sqrt', 'log2'],\n",
    "    'classifier__splitter': ['best', 'random'],\n",
    "    'classifier__min_impurity_decrease': [0.0, 0.1, 0.2, 0.3, 0.4, 0.5]\n",
    "}\n",
    "\n",
    "best_model, best_params, best_score = model_pipeline.get_best_params(pipeline, param_dist, kfold, X_train, y_train)\n",
    "\n",
    "print(\"Melhores parâmetros:\", best_params)\n",
    "print(\"Melhor acurácia:\", best_score)"
   ]
  },
  {
   "cell_type": "markdown",
   "metadata": {},
   "source": [
    "## Armazenando melhor modelo"
   ]
  },
  {
   "cell_type": "code",
   "execution_count": 6,
   "metadata": {},
   "outputs": [],
   "source": [
    "model_pipeline.dump_model(best_model, '../dump/decision_tree', best_score)"
   ]
  }
 ],
 "metadata": {
  "kernelspec": {
   "display_name": "Python 3",
   "language": "python",
   "name": "python3"
  },
  "language_info": {
   "codemirror_mode": {
    "name": "ipython",
    "version": 3
   },
   "file_extension": ".py",
   "mimetype": "text/x-python",
   "name": "python",
   "nbconvert_exporter": "python",
   "pygments_lexer": "ipython3",
   "version": "3.12.3"
  }
 },
 "nbformat": 4,
 "nbformat_minor": 2
}
