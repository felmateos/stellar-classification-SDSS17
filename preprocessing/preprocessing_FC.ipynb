{
 "cells": [
  {
   "cell_type": "markdown",
   "metadata": {},
   "source": [
    "# Pré-processamento"
   ]
  },
  {
   "cell_type": "markdown",
   "metadata": {},
   "source": [
    "## Importações"
   ]
  },
  {
   "cell_type": "code",
   "execution_count": 1,
   "metadata": {},
   "outputs": [],
   "source": [
    "#!pip install -r requirements.txt"
   ]
  },
  {
   "cell_type": "code",
   "execution_count": 2,
   "metadata": {},
   "outputs": [],
   "source": [
    "import pandas as pd\n",
    "import numpy as np\n",
    "from scipy.stats import zscore\n",
    "from sklearn.preprocessing import OneHotEncoder\n",
    "from itertools import combinations\n",
    "\n",
    "from preprocess_funcs import *"
   ]
  },
  {
   "cell_type": "code",
   "execution_count": null,
   "metadata": {},
   "outputs": [],
   "source": []
  },
  {
   "cell_type": "code",
   "execution_count": 3,
   "metadata": {},
   "outputs": [],
   "source": [
    "unused = ['run_ID', 'rerun_ID', 'cam_col', 'field_ID', 'spec_obj_ID', 'plate', 'MJD', 'fiber_ID']\n",
    "colors = ['u', 'g', 'r', 'i', 'z']\n",
    "cat_cols = ['class']\n",
    "\n",
    "transformations = {\n",
    "    'drp': (remove_unused, {\n",
    "        'cols': unused\n",
    "    }),\n",
    "    'outl': (remove_outliers, {\n",
    "        'features': colors,\n",
    "        'threshold': 3\n",
    "    }),\n",
    "    'ohe': (one_hot_encoding, {\n",
    "        'categorical_cols': cat_cols,\n",
    "        'drop_first': False\n",
    "    }),\n",
    "    'cart': (spherical_to_castesian, {\n",
    "        'labels': ['a', 'b', 'c']\n",
    "    })\n",
    "}"
   ]
  },
  {
   "cell_type": "markdown",
   "metadata": {},
   "source": [
    "## Aplicação"
   ]
  },
  {
   "cell_type": "markdown",
   "metadata": {},
   "source": [
    "### Amostra"
   ]
  },
  {
   "cell_type": "code",
   "execution_count": 4,
   "metadata": {},
   "outputs": [
    {
     "name": "stdout",
     "output_type": "stream",
     "text": [
      "Arquivo salvo: ../data/preprocessed/_10_drp.csv\n",
      "Arquivo salvo: ../data/preprocessed/_10_outl.csv\n",
      "Arquivo salvo: ../data/preprocessed/_10_ohe.csv\n",
      "Arquivo salvo: ../data/preprocessed/_10_cart.csv\n",
      "Arquivo salvo: ../data/preprocessed/_10_drp_outl.csv\n",
      "Arquivo salvo: ../data/preprocessed/_10_drp_ohe.csv\n",
      "Arquivo salvo: ../data/preprocessed/_10_drp_cart.csv\n",
      "Arquivo salvo: ../data/preprocessed/_10_outl_ohe.csv\n",
      "Arquivo salvo: ../data/preprocessed/_10_outl_cart.csv\n",
      "Arquivo salvo: ../data/preprocessed/_10_ohe_cart.csv\n",
      "Arquivo salvo: ../data/preprocessed/_10_drp_outl_ohe.csv\n",
      "Arquivo salvo: ../data/preprocessed/_10_drp_outl_cart.csv\n",
      "Arquivo salvo: ../data/preprocessed/_10_drp_ohe_cart.csv\n",
      "Arquivo salvo: ../data/preprocessed/_10_outl_ohe_cart.csv\n",
      "Arquivo salvo: ../data/preprocessed/_10_drp_outl_ohe_cart.csv\n"
     ]
    }
   ],
   "source": [
    "size = '_10'\n",
    "df = pd.read_csv(f'../data/star_classification{size}.csv', index_col='obj_ID')\n",
    "filename = f\"../data/preprocessed/{size}\"\n",
    "preprocess_data(df, transformations, filename)"
   ]
  },
  {
   "cell_type": "markdown",
   "metadata": {},
   "source": [
    "### Complemento"
   ]
  },
  {
   "cell_type": "code",
   "execution_count": 5,
   "metadata": {},
   "outputs": [],
   "source": [
    "transformations = {\n",
    "    'drp': (remove_unused, {\n",
    "        'cols': unused\n",
    "    }),\n",
    "    'outl': (remove_outliers, {\n",
    "        'features': colors,\n",
    "        'threshold': 3\n",
    "    })\n",
    "}"
   ]
  },
  {
   "cell_type": "code",
   "execution_count": 6,
   "metadata": {},
   "outputs": [
    {
     "name": "stdout",
     "output_type": "stream",
     "text": [
      "Arquivo salvo: ../data/preprocessed/_90_drp.csv\n",
      "Arquivo salvo: ../data/preprocessed/_90_outl.csv\n",
      "Arquivo salvo: ../data/preprocessed/_90_drp_outl.csv\n"
     ]
    }
   ],
   "source": [
    "size = '_90'\n",
    "df = pd.read_csv(f'../data/star_classification{size}.csv', index_col='obj_ID')\n",
    "filename = f\"../data/preprocessed/{size}\"\n",
    "preprocess_data(df, transformations, filename)"
   ]
  }
 ],
 "metadata": {
  "kernelspec": {
   "display_name": "Python 3",
   "language": "python",
   "name": "python3"
  },
  "language_info": {
   "codemirror_mode": {
    "name": "ipython",
    "version": 3
   },
   "file_extension": ".py",
   "mimetype": "text/x-python",
   "name": "python",
   "nbconvert_exporter": "python",
   "pygments_lexer": "ipython3",
   "version": "3.12.3"
  }
 },
 "nbformat": 4,
 "nbformat_minor": 2
}
