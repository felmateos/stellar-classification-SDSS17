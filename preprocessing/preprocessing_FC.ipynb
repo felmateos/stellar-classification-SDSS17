{
 "cells": [
  {
   "cell_type": "markdown",
   "metadata": {},
   "source": [
    "# Pré-processamento"
   ]
  },
  {
   "cell_type": "markdown",
   "metadata": {},
   "source": [
    "## Importações"
   ]
  },
  {
   "cell_type": "code",
   "execution_count": 253,
   "metadata": {},
   "outputs": [],
   "source": [
    "#!pip install -r requirements.txt"
   ]
  },
  {
   "cell_type": "code",
   "execution_count": 254,
   "metadata": {},
   "outputs": [],
   "source": [
    "import pandas as pd\n",
    "import numpy as np\n",
    "from scipy.stats import zscore\n",
    "from sklearn.preprocessing import OneHotEncoder\n",
    "from itertools import combinations"
   ]
  },
  {
   "cell_type": "markdown",
   "metadata": {},
   "source": [
    "## Funções"
   ]
  },
  {
   "cell_type": "code",
   "execution_count": 255,
   "metadata": {},
   "outputs": [],
   "source": [
    "def remove_unused(df: pd.DataFrame, cols: list) -> pd.DataFrame:\n",
    "    \"\"\"\n",
    "    Remove colunas que nao serao usadas.\n",
    "    \n",
    "    :param df: Dataframe alvo da transformacao\n",
    "    :type df: pd.DataFrame\n",
    "    :return: Dataframe transformado\n",
    "    :rtype: pd.DataFrame\n",
    "    \"\"\"\n",
    "    df_cp = df.copy()\n",
    "    df_cp = df.drop(cols, axis=1)\n",
    "    return df_cp\n",
    "    "
   ]
  },
  {
   "cell_type": "code",
   "execution_count": 256,
   "metadata": {},
   "outputs": [],
   "source": [
    "def angle_to_coord(row):\n",
    "    alpha = row['alpha']\n",
    "    delta = row['delta']\n",
    "    a = np.cos(alpha) * np.cos(delta)\n",
    "    b = np.sin(alpha) * np.cos(delta)\n",
    "    c = np.sin(delta)\n",
    "    return a, b, c"
   ]
  },
  {
   "cell_type": "code",
   "execution_count": 257,
   "metadata": {},
   "outputs": [],
   "source": [
    "def spherical_to_castesian(df: pd.DataFrame, labels: list) -> pd.DataFrame:\n",
    "    \"\"\"\n",
    "    Converte grandezas esfericas em grandezas de um plano cartesiano.\n",
    "    \n",
    "    :param df: Dataframe alvo da transformacao\n",
    "    :type df: pd.DataFrame\n",
    "    :return: Dataframe transformado\n",
    "    :rtype: pd.DataFrame\n",
    "    \"\"\"\n",
    "    \n",
    "    df_unified = df.copy()\n",
    "    df_unified['coords'] = df.apply(angle_to_coord, axis=1)\n",
    "    df_split = df_unified.copy()\n",
    "    df_split[labels] = pd.DataFrame(df_unified['coords'].tolist(), index=df.index)\n",
    "    df_split = df_split.drop(['coords'], axis=1)\n",
    "    return df_split"
   ]
  },
  {
   "cell_type": "code",
   "execution_count": 258,
   "metadata": {},
   "outputs": [],
   "source": [
    "def remove_outliers(df: pd.DataFrame, features: list, threshold: int = 3) -> pd.DataFrame:\n",
    "    \"\"\"\n",
    "    Remove outliers de um conjunto definido de features caso seu z-score seja superior a algum limiar.\n",
    "    \n",
    "    :param df: Dataframe alvo da transformacao\n",
    "    :type df: pd.DataFrame\n",
    "    :param features: \n",
    "    :return: Dataframe transformado\n",
    "    :rtype: pd.DataFrame\n",
    "    \"\"\"\n",
    "    df_cp = df.copy()     \n",
    "    for feature in features:\n",
    "        outliers = None\n",
    "        z_scores = zscore(df[feature])\n",
    "        outliers = df[(z_scores > threshold) | (z_scores < -threshold)]\n",
    "        rem_index = outliers.index\n",
    "        df_cp = df.drop(rem_index, axis=0)\n",
    "    return df_cp"
   ]
  },
  {
   "cell_type": "code",
   "execution_count": 259,
   "metadata": {},
   "outputs": [],
   "source": [
    "def one_hot_encoding(df: pd.DataFrame, categorical_cols: list, drop_first=False) -> pd.DataFrame:\n",
    "    \"\"\"\n",
    "    Executa o One Hot Encoding em cada coluna fornecida de um DataFrame.\n",
    "\n",
    "    :param df: DataFrame alvo das transformacoes\n",
    "    :df type: pd.DataFrame\n",
    "    :param cols: Lista de colunas que devem ser transformadas\n",
    "    :cols type: list\n",
    "    :return: DataFrame transformado\n",
    "    :rtype: pd.Dataframe\n",
    "    \"\"\"\n",
    "\n",
    "    missing_cols = [col for col in categorical_cols if col not in df.columns]\n",
    "    if missing_cols:\n",
    "        raise ValueError(f\"Colunas categóricas ausentes no DataFrame: {missing_cols}\")\n",
    "\n",
    "    # Aplicar one-hot encoding apenas nas colunas categóricas especificadas\n",
    "    df_encoded = pd.get_dummies(df, columns=categorical_cols, drop_first=drop_first)\n",
    "    return df_encoded"
   ]
  },
  {
   "cell_type": "code",
   "execution_count": 260,
   "metadata": {},
   "outputs": [],
   "source": [
    "def save_transformed_data(df, transformations, filename):\n",
    "    transformed_df = df.copy()\n",
    "    for transformation, params in transformations:\n",
    "        transformed_df = transformation(transformed_df, **params)\n",
    "    transformed_df.to_csv(filename, index=True)\n",
    "    print(f\"Arquivo salvo: {filename}\")"
   ]
  },
  {
   "cell_type": "code",
   "execution_count": 261,
   "metadata": {},
   "outputs": [],
   "source": [
    "unused = ['run_ID', 'rerun_ID', 'cam_col', 'field_ID', 'spec_obj_ID', 'plate', 'MJD', 'fiber_ID']\n",
    "colors = ['u', 'g', 'r', 'i', 'z']\n",
    "cat_cols = ['class']\n",
    "\n",
    "transformations = {\n",
    "    'drp': (remove_unused, {\n",
    "        'cols': unused\n",
    "    }),\n",
    "    'outl': (remove_outliers, {\n",
    "        'features': colors,\n",
    "        'threshold': 3\n",
    "    }),\n",
    "    'ohe': (one_hot_encoding, {\n",
    "        'categorical_cols': cat_cols,\n",
    "        'drop_first': False\n",
    "    }),\n",
    "    'cart': (spherical_to_castesian, {\n",
    "        'labels': ['a', 'b', 'c']\n",
    "    })\n",
    "}"
   ]
  },
  {
   "cell_type": "markdown",
   "metadata": {},
   "source": [
    "## Aplicação"
   ]
  },
  {
   "cell_type": "code",
   "execution_count": 262,
   "metadata": {},
   "outputs": [],
   "source": [
    "size = '_10'\n",
    "df = pd.read_csv(f'../data/star_classification{size}.csv', index_col='obj_ID')"
   ]
  },
  {
   "cell_type": "code",
   "execution_count": 263,
   "metadata": {},
   "outputs": [
    {
     "name": "stdout",
     "output_type": "stream",
     "text": [
      "Arquivo salvo: ../data/preprocessed/_10_drp.csv\n",
      "Arquivo salvo: ../data/preprocessed/_10_outl.csv\n",
      "Arquivo salvo: ../data/preprocessed/_10_ohe.csv\n",
      "Arquivo salvo: ../data/preprocessed/_10_cart.csv\n",
      "Arquivo salvo: ../data/preprocessed/_10_drp_outl.csv\n",
      "Arquivo salvo: ../data/preprocessed/_10_drp_ohe.csv\n",
      "Arquivo salvo: ../data/preprocessed/_10_drp_cart.csv\n",
      "Arquivo salvo: ../data/preprocessed/_10_outl_ohe.csv\n",
      "Arquivo salvo: ../data/preprocessed/_10_outl_cart.csv\n",
      "Arquivo salvo: ../data/preprocessed/_10_ohe_cart.csv\n",
      "Arquivo salvo: ../data/preprocessed/_10_drp_outl_ohe.csv\n",
      "Arquivo salvo: ../data/preprocessed/_10_drp_outl_cart.csv\n",
      "Arquivo salvo: ../data/preprocessed/_10_drp_ohe_cart.csv\n",
      "Arquivo salvo: ../data/preprocessed/_10_outl_ohe_cart.csv\n",
      "Arquivo salvo: ../data/preprocessed/_10_drp_outl_ohe_cart.csv\n"
     ]
    }
   ],
   "source": [
    "transformation_names = list(transformations.keys())\n",
    "for r in range(1, len(transformation_names) + 1):\n",
    "    for combo in combinations(transformation_names, r):\n",
    "        # Nome do arquivo refletindo as transformações aplicadas\n",
    "        filename = f\"../data/preprocessed/{size}_{'_'.join(combo)}.csv\"\n",
    "        # Obter as funções de transformação e seus parâmetros\n",
    "        transformation_funcs = [(transformations[name][0], transformations[name][1]) for name in combo]\n",
    "        # Aplicar transformações e salvar o arquivo\n",
    "        save_transformed_data(df, transformation_funcs, filename)"
   ]
  }
 ],
 "metadata": {
  "kernelspec": {
   "display_name": "Python 3",
   "language": "python",
   "name": "python3"
  },
  "language_info": {
   "codemirror_mode": {
    "name": "ipython",
    "version": 3
   },
   "file_extension": ".py",
   "mimetype": "text/x-python",
   "name": "python",
   "nbconvert_exporter": "python",
   "pygments_lexer": "ipython3",
   "version": "3.12.3"
  }
 },
 "nbformat": 4,
 "nbformat_minor": 2
}
