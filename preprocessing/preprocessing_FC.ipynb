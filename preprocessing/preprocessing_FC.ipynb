{
 "cells": [
  {
   "cell_type": "code",
   "execution_count": 1,
   "metadata": {},
   "outputs": [],
   "source": [
    "#! pip install -r requirements.txt"
   ]
  },
  {
   "cell_type": "code",
   "execution_count": 2,
   "metadata": {},
   "outputs": [],
   "source": [
    "import pandas as pd\n",
    "import numpy as np"
   ]
  },
  {
   "cell_type": "code",
   "execution_count": 3,
   "metadata": {},
   "outputs": [],
   "source": [
    "def remove_unused(df: pd.DataFrame, cols: list) -> pd.DataFrame:\n",
    "    df_cp = df.copy()\n",
    "    df_cp = df.drop(cols, axis=1)\n",
    "    return df_cp\n",
    "    "
   ]
  },
  {
   "cell_type": "code",
   "execution_count": 4,
   "metadata": {},
   "outputs": [],
   "source": [
    "def angle_to_coord(row):\n",
    "    alpha = row['alpha']\n",
    "    delta = row['delta']\n",
    "    a = np.cos(alpha) * np.cos(delta)\n",
    "    b = np.sin(alpha) * np.cos(delta)\n",
    "    c = np.sin(delta)\n",
    "    return a, b, c"
   ]
  },
  {
   "cell_type": "code",
   "execution_count": 5,
   "metadata": {},
   "outputs": [],
   "source": [
    "def spherical_to_castesian(df: pd.DataFrame) -> pd.DataFrame:\n",
    "    df_unified = df.copy()\n",
    "    df_unified['abc'] = df.apply(angle_to_coord, axis=1)\n",
    "    df_split = df_unified.copy()\n",
    "    df_split[['a', 'b', 'c']] = pd.DataFrame(df_unified['abc'].tolist(), index=df.index)\n",
    "    df_split = remove_unused(df_split, ['abc'])\n",
    "    return df_split"
   ]
  },
  {
   "cell_type": "code",
   "execution_count": 6,
   "metadata": {},
   "outputs": [],
   "source": [
    "df = pd.read_csv('../data/star_classification_10.csv', index_col='obj_ID')\n",
    "df = remove_unused(df, ['run_ID', 'rerun_ID', 'cam_col', 'field_ID', 'spec_obj_ID', 'plate', 'MJD', 'fiber_ID'])\n",
    "df = spherical_to_castesian(df)"
   ]
  },
  {
   "cell_type": "code",
   "execution_count": 7,
   "metadata": {},
   "outputs": [
    {
     "data": {
      "text/html": [
       "<div>\n",
       "<style scoped>\n",
       "    .dataframe tbody tr th:only-of-type {\n",
       "        vertical-align: middle;\n",
       "    }\n",
       "\n",
       "    .dataframe tbody tr th {\n",
       "        vertical-align: top;\n",
       "    }\n",
       "\n",
       "    .dataframe thead th {\n",
       "        text-align: right;\n",
       "    }\n",
       "</style>\n",
       "<table border=\"1\" class=\"dataframe\">\n",
       "  <thead>\n",
       "    <tr style=\"text-align: right;\">\n",
       "      <th></th>\n",
       "      <th>alpha</th>\n",
       "      <th>delta</th>\n",
       "      <th>u</th>\n",
       "      <th>g</th>\n",
       "      <th>r</th>\n",
       "      <th>i</th>\n",
       "      <th>z</th>\n",
       "      <th>class</th>\n",
       "      <th>redshift</th>\n",
       "      <th>a</th>\n",
       "      <th>b</th>\n",
       "      <th>c</th>\n",
       "    </tr>\n",
       "    <tr>\n",
       "      <th>obj_ID</th>\n",
       "      <th></th>\n",
       "      <th></th>\n",
       "      <th></th>\n",
       "      <th></th>\n",
       "      <th></th>\n",
       "      <th></th>\n",
       "      <th></th>\n",
       "      <th></th>\n",
       "      <th></th>\n",
       "      <th></th>\n",
       "      <th></th>\n",
       "      <th></th>\n",
       "    </tr>\n",
       "  </thead>\n",
       "  <tbody>\n",
       "    <tr>\n",
       "      <th>1.237663e+18</th>\n",
       "      <td>15.342907</td>\n",
       "      <td>0.794882</td>\n",
       "      <td>18.74547</td>\n",
       "      <td>17.49025</td>\n",
       "      <td>16.89122</td>\n",
       "      <td>16.57350</td>\n",
       "      <td>16.29910</td>\n",
       "      <td>GALAXY</td>\n",
       "      <td>0.042002</td>\n",
       "      <td>-0.654218</td>\n",
       "      <td>0.250033</td>\n",
       "      <td>0.713781</td>\n",
       "    </tr>\n",
       "    <tr>\n",
       "      <th>1.237664e+18</th>\n",
       "      <td>120.365538</td>\n",
       "      <td>55.660432</td>\n",
       "      <td>19.99985</td>\n",
       "      <td>19.68133</td>\n",
       "      <td>19.50156</td>\n",
       "      <td>19.17364</td>\n",
       "      <td>19.16122</td>\n",
       "      <td>QSO</td>\n",
       "      <td>1.633797</td>\n",
       "      <td>0.348727</td>\n",
       "      <td>0.525619</td>\n",
       "      <td>-0.775960</td>\n",
       "    </tr>\n",
       "    <tr>\n",
       "      <th>1.237655e+18</th>\n",
       "      <td>245.610038</td>\n",
       "      <td>42.974786</td>\n",
       "      <td>23.11792</td>\n",
       "      <td>20.81292</td>\n",
       "      <td>18.88351</td>\n",
       "      <td>18.12335</td>\n",
       "      <td>17.68182</td>\n",
       "      <td>GALAXY</td>\n",
       "      <td>0.454852</td>\n",
       "      <td>0.450750</td>\n",
       "      <td>0.286260</td>\n",
       "      <td>-0.845505</td>\n",
       "    </tr>\n",
       "    <tr>\n",
       "      <th>1.237660e+18</th>\n",
       "      <td>127.957356</td>\n",
       "      <td>6.647703</td>\n",
       "      <td>21.94454</td>\n",
       "      <td>21.01012</td>\n",
       "      <td>20.93496</td>\n",
       "      <td>20.93184</td>\n",
       "      <td>20.56855</td>\n",
       "      <td>QSO</td>\n",
       "      <td>2.608515</td>\n",
       "      <td>-0.618062</td>\n",
       "      <td>0.700648</td>\n",
       "      <td>0.356499</td>\n",
       "    </tr>\n",
       "    <tr>\n",
       "      <th>1.237665e+18</th>\n",
       "      <td>159.174526</td>\n",
       "      <td>35.881846</td>\n",
       "      <td>18.89945</td>\n",
       "      <td>17.68422</td>\n",
       "      <td>17.02925</td>\n",
       "      <td>16.60000</td>\n",
       "      <td>16.36798</td>\n",
       "      <td>GALAXY</td>\n",
       "      <td>0.083804</td>\n",
       "      <td>0.122096</td>\n",
       "      <td>-0.211234</td>\n",
       "      <td>-0.969780</td>\n",
       "    </tr>\n",
       "  </tbody>\n",
       "</table>\n",
       "</div>"
      ],
      "text/plain": [
       "                   alpha      delta         u         g         r         i  \\\n",
       "obj_ID                                                                        \n",
       "1.237663e+18   15.342907   0.794882  18.74547  17.49025  16.89122  16.57350   \n",
       "1.237664e+18  120.365538  55.660432  19.99985  19.68133  19.50156  19.17364   \n",
       "1.237655e+18  245.610038  42.974786  23.11792  20.81292  18.88351  18.12335   \n",
       "1.237660e+18  127.957356   6.647703  21.94454  21.01012  20.93496  20.93184   \n",
       "1.237665e+18  159.174526  35.881846  18.89945  17.68422  17.02925  16.60000   \n",
       "\n",
       "                     z   class  redshift         a         b         c  \n",
       "obj_ID                                                                  \n",
       "1.237663e+18  16.29910  GALAXY  0.042002 -0.654218  0.250033  0.713781  \n",
       "1.237664e+18  19.16122     QSO  1.633797  0.348727  0.525619 -0.775960  \n",
       "1.237655e+18  17.68182  GALAXY  0.454852  0.450750  0.286260 -0.845505  \n",
       "1.237660e+18  20.56855     QSO  2.608515 -0.618062  0.700648  0.356499  \n",
       "1.237665e+18  16.36798  GALAXY  0.083804  0.122096 -0.211234 -0.969780  "
      ]
     },
     "execution_count": 7,
     "metadata": {},
     "output_type": "execute_result"
    }
   ],
   "source": [
    "df.head()"
   ]
  },
  {
   "cell_type": "code",
   "execution_count": 8,
   "metadata": {},
   "outputs": [],
   "source": [
    "df.to_csv('../data/star_classification_10_cartesian.csv')"
   ]
  }
 ],
 "metadata": {
  "kernelspec": {
   "display_name": "Python 3",
   "language": "python",
   "name": "python3"
  },
  "language_info": {
   "codemirror_mode": {
    "name": "ipython",
    "version": 3
   },
   "file_extension": ".py",
   "mimetype": "text/x-python",
   "name": "python",
   "nbconvert_exporter": "python",
   "pygments_lexer": "ipython3",
   "version": "3.12.3"
  }
 },
 "nbformat": 4,
 "nbformat_minor": 2
}
