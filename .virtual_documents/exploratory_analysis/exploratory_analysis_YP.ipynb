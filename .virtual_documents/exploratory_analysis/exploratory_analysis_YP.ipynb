


import pandas as pd
import matplotlib.pyplot as plt
import seaborn as sns
from scipy.stats import zscore
from collections import Counter


# leitura dos dados
df = pd.read_csv('../data/star_classification_10.csv', index_col='obj_ID')

# colunas a serem eliminadas
rem_cols = ['run_ID', 'rerun_ID', 'cam_col', 'field_ID', 'spec_obj_ID', 'MJD', 'fiber_ID', 'plate']
df.drop(columns=rem_cols, inplace=True)
df.head()


# quantidade de dados na amostra
df.shape








stars = df[df['class'] == 'STAR']
galaxies = df[df['class'] == 'GALAXY']
quasars = df[df['class'] == 'QSO']


colors = ['u', 'g', 'r', 'i', 'z'] # variáveis que armazenam as cores


for color in colors:

    # Gerando dados de três distribuições diferentes
    data1 = stars[color]
    data2 = galaxies[color]
    data3 = quasars[color]

    # Configurando o estilo do gráfico
    sns.set_style('whitegrid')

    # Plotando os gráficos de densidade
    sns.kdeplot(data1, fill=True, label='stars')
    sns.kdeplot(data2, fill=True, label='galaxies')
    sns.kdeplot(data3, fill=True, label='quasars')

    # Adicionando legendas e rótulos
    plt.title('Gráfico de Densidade para ' + color)
    plt.xlabel('Valores')
    plt.ylabel('Densidade')
    plt.legend()

    # Exibindo o gráfico
    plt.show()





removed_classes = []

for color in colors:

    outliers = None

    # Calculando o Z-score
    z_scores = zscore(df[color])

    # Definindo um limite para considerar outliers (por exemplo, Z-score maior que 3)
    outliers = df[(z_scores > 3) | (z_scores < -3)]

    for index, row in outliers.iterrows():
        removed_classes.append(row['class'])


# contagem de quantos outliers existe para cada dado
contagem = Counter(removed_classes)

print(contagem)


perc_galaxies_rem = round(contagem['GALAXY'] / galaxies.shape[0] * 100, 2)
perc_stars_rem = round(contagem['STAR'] / stars.shape[0] * 100, 2)
perc_quasars_rem = round(contagem['QSO'] / quasars.shape[0] * 100, 2)

print(f'Proporção de outliers de galáxias que seriam removidos: {perc_galaxies_rem}%')
print(f'Proporção de outliers de estrelas que seriam removidos: {perc_stars_rem}%')
print(f'Proporção de outliers de quasares que seriam removidos: {perc_quasars_rem}%')





for color in colors:

    outliers = None

    # Calculando o Z-score
    z_scores = zscore(df[color])

    # Definindo um limite para considerar outliers (por exemplo, Z-score maior que 3)
    outliers = df[(z_scores > 3) | (z_scores < -3)]

    rem_index = outliers.index

    # eliminação dos outliers
    df.drop(rem_index, axis=0, inplace=True)


# Atualização dos subconjuntos
stars = df[df['class'] == 'STAR']
galaxies = df[df['class'] == 'GALAXY']
quasars = df[df['class'] == 'QSO']





for color in colors:

    # Gerando dados de três distribuições diferentes
    data1 = stars[color]
    data2 = galaxies[color]
    data3 = quasars[color]

    # Configurando o estilo do gráfico
    sns.set_style('whitegrid')

    # Plotando os gráficos de densidade
    sns.kdeplot(data1, fill=True, label='stars')
    sns.kdeplot(data2, fill=True, label='galaxies')
    sns.kdeplot(data3, fill=True, label='quasars')

    # Adicionando legendas e rótulos
    plt.title('Gráfico de Densidade para ' + color)
    plt.xlabel('Valores')
    plt.ylabel('Densidade')
    plt.legend()

    # Exibindo o gráfico
    plt.show()











palette = {'STAR': 'blue', 'GALAXY': 'green', 'QSO': 'red'}

# Plotar os corpos celestes no plano α-δ, colorindo por classe
plt.figure(figsize=(15, 10))
sns.scatterplot(x='alpha', y='delta', hue='class', data=df, palette=palette, alpha=0.5)
plt.title('Distribuição dos Corpos Celestes no Plano α-δ')
plt.xlabel('Alpha (α)')
plt.ylabel('Delta (δ)')
plt.legend(title='Classe')
plt.show()








# Função para converter coordenadas esféricas para cartesiana
def spherical_to_cartesian(alpha, delta):
    alpha_rad = np.radians(alpha)
    delta_rad = np.radians(delta)
    
    x = np.cos(delta_rad) * np.cos(alpha_rad)
    y = np.cos(delta_rad) * np.sin(alpha_rad)
    z = np.sin(delta_rad)
    
    return x, y, z

# Aplicar a conversão no dataset
df['x'], df['y'], df['z'] = spherical_to_cartesian(df['alpha'], df['delta'])


# Função para converter coordenadas esféricas para cartesiana
def spherical_to_cartesian(alpha, delta):
    alpha_rad = np.radians(alpha)
    delta_rad = np.radians(delta)
    
    x = np.cos(delta_rad) * np.cos(alpha_rad)
    y = np.cos(delta_rad) * np.sin(alpha_rad)
    z = np.sin(delta_rad)
    
    return x, y, z

# Aplicar a conversão no dataset
df['x'], df['y'], df['z'] = spherical_to_cartesian(df['alpha'], df['delta'])





# Mapear classes para cores
colors = {'STAR': 'blue', 'GALAXY': 'green', 'QSO': 'red'}

# Função para plotar uma classe específica
def plot_class(df, class_name, color):
    fig = plt.figure(figsize=(12, 8))
    ax = fig.add_subplot(111, projection='3d')
    class_data = df[df['class'] == class_name]
    ax.scatter(class_data['x'], class_data['y'], class_data['z'], c=color, s=10, alpha=0.6)
    ax.set_title(f'Distribuição 3D da Classe: {class_name}')
    ax.set_xlabel('X')
    ax.set_ylabel('Y')
    ax.set_zlabel('Z')
    plt.show()

# Plotar cada classe separadamente
plot_class(df, 'STAR', colors['STAR'])
plot_class(df, 'GALAXY', colors['GALAXY'])
plot_class(df, 'QSO', colors['QSO'])


# Configurar o plot 3D
fig = plt.figure(figsize=(12, 8))
ax = fig.add_subplot(111, projection='3d')

# Mapear classes para cores
colors = {'STAR': 'blue', 'GALAXY': 'green', 'QSO': 'red'}
df['color'] = df['class'].map(colors)

# Plotar os dados
scatter = ax.scatter(df['x'], df['y'], df['z'], c=df['color'], s=10, alpha=0.6)

# Configurações do gráfico
ax.set_title('Distribuição 3D de Todas as Classes')
ax.set_xlabel('X')
ax.set_ylabel('Y')
ax.set_zlabel('Z')

# Adicionar legenda
class_labels = [plt.Line2D([0], [0], marker='o', color='w', markerfacecolor=color, markersize=10) for color in colors.values()]
ax.legend(class_labels, colors.keys(), title="Class")

plt.show()



