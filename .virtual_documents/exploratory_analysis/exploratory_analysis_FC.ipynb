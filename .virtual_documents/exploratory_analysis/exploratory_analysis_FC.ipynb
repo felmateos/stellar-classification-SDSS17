





#!pip install -r ../requirements.txt


import pandas as pd
import geopandas as gpd
from pysal.lib import weights
from pysal.explore import esda
import matplotlib.pyplot as plt


df = pd.read_csv('../data/star_classification_10_full_p.csv')

gdf = gpd.GeoDataFrame(df, geometry=gpd.points_from_xy(df['alpha'], df['delta']))





def celestial_sphere_plot(df: pd.DataFrame, criterion: str, coords: tuple = ('a', 'b', 'c'), color: str = 'hot'):
    """
    Gera e exibe uma projeção gráfica dos corpos celestes na esfera celeste, usando algum critério para colori-los.
    
    :param df: Dataframe que contém as informações dos corpos celestes
    :type df: pd.DataFrame
    :param criterion: Qual das colunas será usada para diferenciar cada instância na esfera celeste
    :type criterion: str
    :param coords: Tupla contendo os valores das coordeandas tridimensional de cada isntância na esfera celeste
    :type coords: tuple
    :param color: Escala de cores a ser usada (consultar documentação do matplotlib para verificar opções)
    :type color: str
    """

    a, b, c = coords
    a = df[a]
    b = df[b]
    c = df[c]
    
    crit = df[criterion]
    fig = plt.figure(figsize=(10, 8))
    ax = fig.add_subplot(111, projection='3d')
    sc = ax.scatter(a, b, c, c=crit, cmap=color, marker='.')
    ax.set_xlabel('A')
    ax.set_ylabel('B')
    ax.set_zlabel('C')
    ax.set_title(f'Instâncias em suas Coordenadas Cartesianas com Cor Baseada em {crit.name}')
    fig.colorbar(sc, label=crit.name)
    plt.show()


def spacial_cluster_correlation(gdf: gpd.GeoDataFrame, spectre: str, k: int = 5, permutations: int = 0):
    """
    descrição

    :param gdf: GeoDataFrame que contém as informações dos corpos celestes
    :type gdf: gpd.GeoDataFrame
    :param spectre: Nome da variável luminosa que será avaliada
    :type spectre: str
    :param k: Valor K para o KNN
    :type k: int
    """
    
    W = weights.KNN.from_dataframe(gdf, k=k)
    y = gdf[spectre]

    moran = esda.Moran(y, W)
    print("Índice de Moran Global:", moran.I)

    moran_mc = esda.Moran(y, W, permutations=999)
    print("Índice de Moran Observado:", moran_mc.I)
    print("Valor z:", moran_mc.z_sim)
    print("Valor p:", moran_mc.p_sim)

    plt.hist(moran_mc.sim, bins=30, edgecolor='k')
    plt.axvline(moran_mc.I, color='red', linestyle='dashed')
    plt.xlabel('Índice de Moran Simulado')
    plt.ylabel('Frequência')
    plt.title('Distribuição Nula para o Índice de Moran')
    plt.show()


colors = ['u', 'g', 'r', 'i', 'z']
cmaps = ['BuPu', 'Greens', 'Reds', 'YlOrRd', 'OrRd']





celestial_sphere_plot(df, 'u', color='BuPu')


spacial_cluster_correlation(gdf, 'u')





celestial_sphere_plot(df, 'g', color='Greens')


spacial_cluster_correlation(gdf, 'g')





celestial_sphere_plot(df, 'r', color='Reds')


spacial_cluster_correlation(gdf, 'r')





celestial_sphere_plot(df, 'i', color='YlOrRd')


spacial_cluster_correlation(gdf, 'i')





celestial_sphere_plot(df, 'z', color='OrRd')


spacial_cluster_correlation(gdf, 'z')











celestial_sphere_plot(df, 'redshift', color='inferno')


spacial_cluster_correlation(gdf, 'redshift')



