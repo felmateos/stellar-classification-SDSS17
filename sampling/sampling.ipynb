{
 "cells": [
  {
   "cell_type": "code",
   "execution_count": 5,
   "metadata": {},
   "outputs": [],
   "source": [
    "import pandas as pd\n",
    "import numpy as np\n",
    "\n",
    "np.random.seed(777)"
   ]
  },
  {
   "cell_type": "code",
   "execution_count": 6,
   "metadata": {},
   "outputs": [],
   "source": [
    "df = pd.read_csv('../data/star_classification.csv', index_col='obj_ID')\n",
    "\n",
    "size = len(df.index)\n",
    "\n",
    "df_10 = df.sample(int(size/10))\n",
    "df_10.to_csv('../data/star_classification_10.csv')\n",
    "\n",
    "df_90 = df.drop(df_10.index)\n",
    "df_90.to_csv('../data/star_classification_90.csv')"
   ]
  }
 ],
 "metadata": {
  "kernelspec": {
   "display_name": "Python 3",
   "language": "python",
   "name": "python3"
  },
  "language_info": {
   "codemirror_mode": {
    "name": "ipython",
    "version": 3
   },
   "file_extension": ".py",
   "mimetype": "text/x-python",
   "name": "python",
   "nbconvert_exporter": "python",
   "pygments_lexer": "ipython3",
   "version": "3.12.3"
  }
 },
 "nbformat": 4,
 "nbformat_minor": 2
}
