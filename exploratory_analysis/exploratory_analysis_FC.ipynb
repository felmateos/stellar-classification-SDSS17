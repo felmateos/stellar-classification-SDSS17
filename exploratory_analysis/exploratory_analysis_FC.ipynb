{
 "cells": [
  {
   "cell_type": "markdown",
   "metadata": {},
   "source": [
    "# Análise Exploratória\n",
    "\n",
    "## responder a seguinte questão de pesquisa:\n",
    "\n",
    "### \"Existe alguma correlação entre as regiões definidas pelos ângulos alpha e delta de um corpo celeste e a sua emiss ̃ao luminosa, especificamente em relaço à faixa de cor observada?\""
   ]
  },
  {
   "cell_type": "code",
   "execution_count": 1,
   "metadata": {},
   "outputs": [],
   "source": [
    "#!pip install -r requirements.txt"
   ]
  },
  {
   "cell_type": "code",
   "execution_count": 2,
   "metadata": {},
   "outputs": [],
   "source": [
    "import pandas as pd\n",
    "import numpy as np"
   ]
  },
  {
   "cell_type": "code",
   "execution_count": 3,
   "metadata": {},
   "outputs": [
    {
     "data": {
      "text/html": [
       "<div>\n",
       "<style scoped>\n",
       "    .dataframe tbody tr th:only-of-type {\n",
       "        vertical-align: middle;\n",
       "    }\n",
       "\n",
       "    .dataframe tbody tr th {\n",
       "        vertical-align: top;\n",
       "    }\n",
       "\n",
       "    .dataframe thead th {\n",
       "        text-align: right;\n",
       "    }\n",
       "</style>\n",
       "<table border=\"1\" class=\"dataframe\">\n",
       "  <thead>\n",
       "    <tr style=\"text-align: right;\">\n",
       "      <th></th>\n",
       "      <th>obj_ID</th>\n",
       "      <th>alpha</th>\n",
       "      <th>delta</th>\n",
       "      <th>u</th>\n",
       "      <th>g</th>\n",
       "      <th>r</th>\n",
       "      <th>i</th>\n",
       "      <th>z</th>\n",
       "      <th>redshift</th>\n",
       "    </tr>\n",
       "  </thead>\n",
       "  <tbody>\n",
       "    <tr>\n",
       "      <th>0</th>\n",
       "      <td>1.237663e+18</td>\n",
       "      <td>15.342907</td>\n",
       "      <td>0.794882</td>\n",
       "      <td>18.74547</td>\n",
       "      <td>17.49025</td>\n",
       "      <td>16.89122</td>\n",
       "      <td>16.57350</td>\n",
       "      <td>16.29910</td>\n",
       "      <td>0.042002</td>\n",
       "    </tr>\n",
       "    <tr>\n",
       "      <th>1</th>\n",
       "      <td>1.237664e+18</td>\n",
       "      <td>120.365538</td>\n",
       "      <td>55.660432</td>\n",
       "      <td>19.99985</td>\n",
       "      <td>19.68133</td>\n",
       "      <td>19.50156</td>\n",
       "      <td>19.17364</td>\n",
       "      <td>19.16122</td>\n",
       "      <td>1.633797</td>\n",
       "    </tr>\n",
       "    <tr>\n",
       "      <th>2</th>\n",
       "      <td>1.237655e+18</td>\n",
       "      <td>245.610038</td>\n",
       "      <td>42.974786</td>\n",
       "      <td>23.11792</td>\n",
       "      <td>20.81292</td>\n",
       "      <td>18.88351</td>\n",
       "      <td>18.12335</td>\n",
       "      <td>17.68182</td>\n",
       "      <td>0.454852</td>\n",
       "    </tr>\n",
       "    <tr>\n",
       "      <th>3</th>\n",
       "      <td>1.237660e+18</td>\n",
       "      <td>127.957356</td>\n",
       "      <td>6.647703</td>\n",
       "      <td>21.94454</td>\n",
       "      <td>21.01012</td>\n",
       "      <td>20.93496</td>\n",
       "      <td>20.93184</td>\n",
       "      <td>20.56855</td>\n",
       "      <td>2.608515</td>\n",
       "    </tr>\n",
       "    <tr>\n",
       "      <th>4</th>\n",
       "      <td>1.237665e+18</td>\n",
       "      <td>159.174526</td>\n",
       "      <td>35.881846</td>\n",
       "      <td>18.89945</td>\n",
       "      <td>17.68422</td>\n",
       "      <td>17.02925</td>\n",
       "      <td>16.60000</td>\n",
       "      <td>16.36798</td>\n",
       "      <td>0.083804</td>\n",
       "    </tr>\n",
       "  </tbody>\n",
       "</table>\n",
       "</div>"
      ],
      "text/plain": [
       "         obj_ID       alpha      delta         u         g         r  \\\n",
       "0  1.237663e+18   15.342907   0.794882  18.74547  17.49025  16.89122   \n",
       "1  1.237664e+18  120.365538  55.660432  19.99985  19.68133  19.50156   \n",
       "2  1.237655e+18  245.610038  42.974786  23.11792  20.81292  18.88351   \n",
       "3  1.237660e+18  127.957356   6.647703  21.94454  21.01012  20.93496   \n",
       "4  1.237665e+18  159.174526  35.881846  18.89945  17.68422  17.02925   \n",
       "\n",
       "          i         z  redshift  \n",
       "0  16.57350  16.29910  0.042002  \n",
       "1  19.17364  19.16122  1.633797  \n",
       "2  18.12335  17.68182  0.454852  \n",
       "3  20.93184  20.56855  2.608515  \n",
       "4  16.60000  16.36798  0.083804  "
      ]
     },
     "execution_count": 3,
     "metadata": {},
     "output_type": "execute_result"
    }
   ],
   "source": [
    "df = pd.read_csv('../data/star_classification_10.csv')\n",
    "df = df[['obj_ID', 'alpha', 'delta', 'u', 'g', 'r', 'i', 'z', 'redshift']]\n",
    "df.head()"
   ]
  },
  {
   "cell_type": "markdown",
   "metadata": {},
   "source": [
    "### identificação das unidades de medida usadas\n",
    "\n",
    "O alpha, também conhecido como ascensão reta, é o ângulo medido sobre o horizonte, no sentido horário (NLSO), com origem no Norte geográfico e extremidade no círculo vertical do astro. O azimute varia entre 0° e 360°.\n",
    "\n",
    "Já o delta possui valores negativos, logo só pode se referir à declinação. A altura varia entre -90° e +90°. Podemos converter para distância polar para que varie entre 0° e 180°."
   ]
  },
  {
   "cell_type": "code",
   "execution_count": 4,
   "metadata": {},
   "outputs": [],
   "source": [
    "coord_cols = ['alpha', 'delta']\n",
    "light_cols = ['u', 'g', 'r', 'i']"
   ]
  },
  {
   "cell_type": "code",
   "execution_count": 5,
   "metadata": {},
   "outputs": [
    {
     "data": {
      "text/html": [
       "<div>\n",
       "<style scoped>\n",
       "    .dataframe tbody tr th:only-of-type {\n",
       "        vertical-align: middle;\n",
       "    }\n",
       "\n",
       "    .dataframe tbody tr th {\n",
       "        vertical-align: top;\n",
       "    }\n",
       "\n",
       "    .dataframe thead th {\n",
       "        text-align: right;\n",
       "    }\n",
       "</style>\n",
       "<table border=\"1\" class=\"dataframe\">\n",
       "  <thead>\n",
       "    <tr style=\"text-align: right;\">\n",
       "      <th></th>\n",
       "      <th>alpha</th>\n",
       "      <th>delta</th>\n",
       "    </tr>\n",
       "  </thead>\n",
       "  <tbody>\n",
       "    <tr>\n",
       "      <th>count</th>\n",
       "      <td>10000.000000</td>\n",
       "      <td>10000.000000</td>\n",
       "    </tr>\n",
       "    <tr>\n",
       "      <th>mean</th>\n",
       "      <td>178.026487</td>\n",
       "      <td>23.777924</td>\n",
       "    </tr>\n",
       "    <tr>\n",
       "      <th>std</th>\n",
       "      <td>97.206836</td>\n",
       "      <td>19.555968</td>\n",
       "    </tr>\n",
       "    <tr>\n",
       "      <th>min</th>\n",
       "      <td>0.011684</td>\n",
       "      <td>-16.450911</td>\n",
       "    </tr>\n",
       "    <tr>\n",
       "      <th>25%</th>\n",
       "      <td>127.309188</td>\n",
       "      <td>4.765674</td>\n",
       "    </tr>\n",
       "    <tr>\n",
       "      <th>50%</th>\n",
       "      <td>180.777242</td>\n",
       "      <td>22.985017</td>\n",
       "    </tr>\n",
       "    <tr>\n",
       "      <th>75%</th>\n",
       "      <td>234.307319</td>\n",
       "      <td>39.855873</td>\n",
       "    </tr>\n",
       "    <tr>\n",
       "      <th>max</th>\n",
       "      <td>359.978910</td>\n",
       "      <td>82.567500</td>\n",
       "    </tr>\n",
       "  </tbody>\n",
       "</table>\n",
       "</div>"
      ],
      "text/plain": [
       "              alpha         delta\n",
       "count  10000.000000  10000.000000\n",
       "mean     178.026487     23.777924\n",
       "std       97.206836     19.555968\n",
       "min        0.011684    -16.450911\n",
       "25%      127.309188      4.765674\n",
       "50%      180.777242     22.985017\n",
       "75%      234.307319     39.855873\n",
       "max      359.978910     82.567500"
      ]
     },
     "execution_count": 5,
     "metadata": {},
     "output_type": "execute_result"
    }
   ],
   "source": [
    "coord = df[coord_cols]\n",
    "coord.describe()"
   ]
  },
  {
   "cell_type": "markdown",
   "metadata": {},
   "source": [
    "### Derivando coordenadas esféricas (raio, ângulo azimutal e ângulo zenital) a partir de alfa e delta"
   ]
  },
  {
   "cell_type": "code",
   "execution_count": 6,
   "metadata": {},
   "outputs": [
    {
     "name": "stderr",
     "output_type": "stream",
     "text": [
      "C:\\Users\\Felipe Castro\\AppData\\Local\\Temp\\ipykernel_10684\\162344046.py:1: SettingWithCopyWarning: \n",
      "A value is trying to be set on a copy of a slice from a DataFrame.\n",
      "Try using .loc[row_indexer,col_indexer] = value instead\n",
      "\n",
      "See the caveats in the documentation: https://pandas.pydata.org/pandas-docs/stable/user_guide/indexing.html#returning-a-view-versus-a-copy\n",
      "  coord['x'] = np.cos(coord['alpha']) * np.cos(coord['delta'])\n",
      "C:\\Users\\Felipe Castro\\AppData\\Local\\Temp\\ipykernel_10684\\162344046.py:2: SettingWithCopyWarning: \n",
      "A value is trying to be set on a copy of a slice from a DataFrame.\n",
      "Try using .loc[row_indexer,col_indexer] = value instead\n",
      "\n",
      "See the caveats in the documentation: https://pandas.pydata.org/pandas-docs/stable/user_guide/indexing.html#returning-a-view-versus-a-copy\n",
      "  coord['y'] = np.sin(coord['alpha']) * np.cos(coord['delta'])\n",
      "C:\\Users\\Felipe Castro\\AppData\\Local\\Temp\\ipykernel_10684\\162344046.py:3: SettingWithCopyWarning: \n",
      "A value is trying to be set on a copy of a slice from a DataFrame.\n",
      "Try using .loc[row_indexer,col_indexer] = value instead\n",
      "\n",
      "See the caveats in the documentation: https://pandas.pydata.org/pandas-docs/stable/user_guide/indexing.html#returning-a-view-versus-a-copy\n",
      "  coord['z'] = np.sin(coord['delta'])\n"
     ]
    }
   ],
   "source": [
    "coord['x'] = np.cos(coord['alpha']) * np.cos(coord['delta'])\n",
    "coord['y'] = np.sin(coord['alpha']) * np.cos(coord['delta'])\n",
    "coord['z'] = np.sin(coord['delta'])"
   ]
  },
  {
   "cell_type": "code",
   "execution_count": 7,
   "metadata": {},
   "outputs": [],
   "source": [
    "coord_cols = ['alpha', 'delta', 'x','y','z']\n",
    "df[['x','y','z']] = coord[['x','y','z']]"
   ]
  },
  {
   "cell_type": "code",
   "execution_count": 8,
   "metadata": {},
   "outputs": [
    {
     "name": "stdout",
     "output_type": "stream",
     "text": [
      "suco: \n",
      "           x         y         z         u\n",
      "x  1.000000  0.003615  0.005868  0.009552\n",
      "y  0.003615  1.000000 -0.002166  0.012940\n",
      "z  0.005868 -0.002166  1.000000  0.008445\n",
      "u  0.009552  0.012940  0.008445  1.000000\n",
      "suco: \n",
      "           x         y         z         g\n",
      "x  1.000000  0.003615  0.005868  0.009685\n",
      "y  0.003615  1.000000 -0.002166  0.013083\n",
      "z  0.005868 -0.002166  1.000000  0.008840\n",
      "g  0.009685  0.013083  0.008840  1.000000\n",
      "suco: \n",
      "           x         y         z         r\n",
      "x  1.000000  0.003615  0.005868  0.003886\n",
      "y  0.003615  1.000000 -0.002166 -0.003232\n",
      "z  0.005868 -0.002166  1.000000  0.044566\n",
      "r  0.003886 -0.003232  0.044566  1.000000\n",
      "suco: \n",
      "           x         y         z         i\n",
      "x  1.000000  0.003615  0.005868  0.002787\n",
      "y  0.003615  1.000000 -0.002166 -0.004029\n",
      "z  0.005868 -0.002166  1.000000  0.055464\n",
      "i  0.002787 -0.004029  0.055464  1.000000\n"
     ]
    }
   ],
   "source": [
    "for c in light_cols:\n",
    "    correlation_matrix = df[['x', 'y', 'z', c]].corr()\n",
    "\n",
    "    print('suco: \\n', correlation_matrix)"
   ]
  },
  {
   "cell_type": "code",
   "execution_count": 9,
   "metadata": {},
   "outputs": [
    {
     "name": "stdout",
     "output_type": "stream",
     "text": [
      "suco: \n",
      "           alpha     delta         u\n",
      "alpha  1.000000  0.134858 -0.004653\n",
      "delta  0.134858  1.000000  0.011703\n",
      "u     -0.004653  0.011703  1.000000\n",
      "suco: \n",
      "           alpha     delta         g\n",
      "alpha  1.000000  0.134858 -0.005107\n",
      "delta  0.134858  1.000000  0.012147\n",
      "g     -0.005107  0.012147  1.000000\n",
      "suco: \n",
      "           alpha     delta         r\n",
      "alpha  1.000000  0.134858 -0.033189\n",
      "delta  0.134858  1.000000 -0.013308\n",
      "r     -0.033189 -0.013308  1.000000\n",
      "suco: \n",
      "           alpha     delta         i\n",
      "alpha  1.000000  0.134858 -0.036893\n",
      "delta  0.134858  1.000000 -0.009532\n",
      "i     -0.036893 -0.009532  1.000000\n"
     ]
    }
   ],
   "source": [
    "for c in light_cols:\n",
    "    correlation_matrix = df[['alpha', 'delta', c]].corr()\n",
    "\n",
    "    print('suco: \\n', correlation_matrix)"
   ]
  },
  {
   "cell_type": "markdown",
   "metadata": {},
   "source": [
    "# Conclusão\n",
    "\n",
    "Não tem correlação alguma"
   ]
  }
 ],
 "metadata": {
  "kernelspec": {
   "display_name": "Python 3",
   "language": "python",
   "name": "python3"
  },
  "language_info": {
   "codemirror_mode": {
    "name": "ipython",
    "version": 3
   },
   "file_extension": ".py",
   "mimetype": "text/x-python",
   "name": "python",
   "nbconvert_exporter": "python",
   "pygments_lexer": "ipython3",
   "version": "3.12.3"
  }
 },
 "nbformat": 4,
 "nbformat_minor": 2
}
